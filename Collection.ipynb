{
  "nbformat": 4,
  "nbformat_minor": 0,
  "metadata": {
    "colab": {
      "provenance": [],
      "authorship_tag": "ABX9TyMmHkrlHuW41tLSDpLjuB0f",
      "include_colab_link": true
    },
    "kernelspec": {
      "name": "python3",
      "display_name": "Python 3"
    },
    "language_info": {
      "name": "python"
    }
  },
  "cells": [
    {
      "cell_type": "markdown",
      "metadata": {
        "id": "view-in-github",
        "colab_type": "text"
      },
      "source": [
        "<a href=\"https://colab.research.google.com/github/Meaning-Mentos/Finding-the-meaning-of-mentos/blob/main/Collection.ipynb\" target=\"_parent\"><img src=\"https://colab.research.google.com/assets/colab-badge.svg\" alt=\"Open In Colab\"/></a>"
      ]
    },
    {
      "cell_type": "code",
      "execution_count": null,
      "metadata": {
        "colab": {
          "base_uri": "https://localhost:8080/"
        },
        "id": "E85rPaXmuxlI",
        "outputId": "3f835128-9aa0-4426-df9f-086f0ad57f9c"
      },
      "outputs": [
        {
          "output_type": "stream",
          "name": "stdout",
          "text": [
            "[0, 10000, 20000, 30000, 40000, 50000, 60000, 70000, 80000, 90000, 100000]\n",
            "[1, 11, 21, 31, 41, 51, 61, 71, 81, 91]\n",
            "[1, 11, 21, 31, 41, 51, 61, 71, 81, 91]\n",
            "[1, 11, 21, 31, 41, 51, 61, 71, 81, 91]\n",
            "[1, 11, 21, 31, 41, 51, 61, 71, 81, 91]\n",
            "[1, 11, 21, 31, 41, 51, 61, 71, 81, 91]\n",
            "[1, 11, 21, 31, 41, 51, 61, 71, 81, 91]\n",
            "[1, 11, 21, 31, 41, 51, 61, 71, 81, 91]\n",
            "[1, 11, 21, 31, 41, 51, 61, 71, 81, 91]\n",
            "[1, 11, 21, 31, 41, 51, 61, 71, 81, 91]\n",
            "[1, 11, 21, 31, 41, 51, 61, 71, 81, 91]\n",
            "[1, 11, 21, 31, 41, 51, 61, 71, 81, 91]\n"
          ]
        }
      ],
      "source": [
        "s = list(range(0,100001,10000))\n",
        "print(s)\n",
        "if 20000 in s:\n",
        "  for a in s:\n",
        "    a = list(range(1,100, 10))\n",
        "    print(a)"
      ]
    }
  ]
}