{
  "nbformat": 4,
  "nbformat_minor": 0,
  "metadata": {
    "colab": {
      "provenance": [],
      "authorship_tag": "ABX9TyMtvSS5agADWDI1GyqbAVRB",
      "include_colab_link": true
    },
    "kernelspec": {
      "name": "python3",
      "display_name": "Python 3"
    },
    "language_info": {
      "name": "python"
    }
  },
  "cells": [
    {
      "cell_type": "markdown",
      "metadata": {
        "id": "view-in-github",
        "colab_type": "text"
      },
      "source": [
        "<a href=\"https://colab.research.google.com/github/Meaning-Mentos/Finding-the-meaning-of-mentos/blob/main/%EA%B8%B0%EA%B3%B5%EC%82%AC%EC%9D%98_%EB%B6%88%ED%95%A9%EB%A6%AC%ED%95%A8.ipynb\" target=\"_parent\"><img src=\"https://colab.research.google.com/assets/colab-badge.svg\" alt=\"Open In Colab\"/></a>"
      ]
    },
    {
      "cell_type": "code",
      "execution_count": null,
      "metadata": {
        "colab": {
          "base_uri": "https://localhost:8080/"
        },
        "id": "2SnWfYW04EWu",
        "outputId": "42007efa-7f83-44f2-af66-415cd30f6bdb"
      },
      "outputs": [
        {
          "output_type": "stream",
          "name": "stdout",
          "text": [
            "시작하시겠습니까? 예/아니요 예\n",
            "아드레날린이 들어있는 역천기공은 원기옥에 풀딜을 넣고 싶어요. 순보, 금강선공, 내공방출, 원기옥의 순서를 잘 조합해서 사용해 주세요. \n",
            "어떤 스킬부터 사용하시겠습니까? 순보\n",
            "다음 스킬은? 내공\n",
            "틀렸습니다. 다시 실행해 주세요.\n",
            "다시 실행해주세요\n",
            "시작하시겠습니까? 예/아니요 아니요\n",
            "멈추겠습니다.\n"
          ]
        }
      ],
      "source": [
        "# 기공사의 불합리함\n",
        "def holy_gigongsa():\n",
        "    print(\"아드레날린이 들어있는 역천기공은 원기옥에 풀딜을 넣고 싶어요. 순보, 금강선공, 내공방출, 원기옥의 순서를 잘 조합해서 사용해 주세요. \")\n",
        "    ski = input(\"어떤 스킬부터 사용하시겠습니까? \")\n",
        "    wow = (\"실패\")\n",
        "    # sunbo_success\n",
        "    if ski == \"순보\":\n",
        "        ski2 = input(\"다음 스킬은? \")\n",
        "        if ski2 == \"금강선공\":\n",
        "            ski3 = input(\"금강선공 다음 스킬은? \")\n",
        "            if ski3 == \"내공방출\":\n",
        "                ski4 = input(\"내공방출 다음 스킬은?\")\n",
        "                if ski4 == \"원기옥\":\n",
        "                    print(\"치명타가 안떴습니다.\")\n",
        "                    return(\"재도전하세요.\")# 람다로 간결하게 할것\n",
        "\n",
        "                else:\n",
        "                    return(\"제대로 입력해주세요. 처음으로 돌아가겠습니다. \")\n",
        "\n",
        "\n",
        "            elif ski3 == \"원기옥\":\n",
        "                return(\"치명타가 안떴습니다. the end\")\n",
        "            else:\n",
        "                print(\"틀렸습니다. 다시 실행해 주세요.\")\n",
        "                return(\"다시 실행해주세요\")\n",
        "        elif ski2 == \"원기옥\":\n",
        "            print(\"치명타가 안떴습니다! the end\")\n",
        "            return(\"다시 실행해주세요\")\n",
        "        else:\n",
        "            print(\"틀렸습니다. 다시 실행해 주세요.\")\n",
        "            return(\"다시 실행해주세요\")\n",
        "    # sunbo_success_02\n",
        "    elif ski == \"원기옥\":\n",
        "        print(\"치명타가 안떴습니다~ the end\")\n",
        "        return(\"다시 실행해주세요\")\n",
        "    else:\n",
        "        print(\"틀렸습니다. 다시 실행해 주세요.\")\n",
        "        return(\"다시 실행해주세요\")\n",
        "\n",
        "while True :\n",
        "    sval = input(\"시작하시겠습니까? 예/아니요 \")\n",
        "    if sval == \"아니요\":\n",
        "        print(\"멈추겠습니다.\")\n",
        "        break\n",
        "    else:\n",
        "        print(holy_gigongsa())"
      ]
    }
  ]
}