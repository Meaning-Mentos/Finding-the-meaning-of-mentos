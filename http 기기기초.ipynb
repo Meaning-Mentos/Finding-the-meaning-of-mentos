{
  "nbformat": 4,
  "nbformat_minor": 0,
  "metadata": {
    "colab": {
      "provenance": [],
      "authorship_tag": "ABX9TyOuvnRRc8UzjnPH9cPnUbOt",
      "include_colab_link": true
    },
    "kernelspec": {
      "name": "python3",
      "display_name": "Python 3"
    },
    "language_info": {
      "name": "python"
    }
  },
  "cells": [
    {
      "cell_type": "markdown",
      "metadata": {
        "id": "view-in-github",
        "colab_type": "text"
      },
      "source": [
        "<a href=\"https://colab.research.google.com/github/Meaning-Mentos/Finding-the-meaning-of-mentos/blob/main/http%20%EA%B8%B0%EA%B8%B0%EA%B8%B0%EC%B4%88.ipynb\" target=\"_parent\"><img src=\"https://colab.research.google.com/assets/colab-badge.svg\" alt=\"Open In Colab\"/></a>"
      ]
    },
    {
      "cell_type": "code",
      "execution_count": null,
      "metadata": {
        "id": "2HUceMQ3hGH7"
      },
      "outputs": [],
      "source": [
        "import socket # 소켓 불러오기\n",
        "mysock = socket. socket(socket.AF_INET, socket.SOCK_STREAM) # 소켓을 만든다. #열리기 위한 길\n",
        "mysock.connect( ('data.pr4e.org', 80) )\n",
        " #connect -> 여기랑 연결시켜\n",
        " # data.pr4e.org = 호스트는 이걸로,  80 = 번호는 이걸로"
      ]
    },
    {
      "cell_type": "code",
      "source": [],
      "metadata": {
        "id": "aLJzmUl2hQD_"
      },
      "execution_count": null,
      "outputs": []
    }
  ]
}