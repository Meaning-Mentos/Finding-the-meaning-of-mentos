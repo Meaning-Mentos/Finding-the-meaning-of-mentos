{
  "nbformat": 4,
  "nbformat_minor": 0,
  "metadata": {
    "colab": {
      "provenance": [],
      "authorship_tag": "ABX9TyOwklyOSbIuikzdxdHC24V4",
      "include_colab_link": true
    },
    "kernelspec": {
      "name": "python3",
      "display_name": "Python 3"
    },
    "language_info": {
      "name": "python"
    }
  },
  "cells": [
    {
      "cell_type": "markdown",
      "metadata": {
        "id": "view-in-github",
        "colab_type": "text"
      },
      "source": [
        "<a href=\"https://colab.research.google.com/github/Meaning-Mentos/Finding-the-meaning-of-mentos/blob/main/%EC%A0%95%EA%B7%9C%EC%8B%9D%20%EA%B8%B0%EC%B4%88(%EB%AC%B8%EC%9E%A5%EC%B0%BE%EA%B8%B0).ipynb\" target=\"_parent\"><img src=\"https://colab.research.google.com/assets/colab-badge.svg\" alt=\"Open In Colab\"/></a>"
      ]
    },
    {
      "cell_type": "code",
      "execution_count": null,
      "metadata": {
        "id": "5d28IJ43gtE7"
      },
      "outputs": [],
      "source": [
        "import re\n",
        "\n",
        "hand = open('ㅌㅌ') # 똑같아\n",
        "for line in hand:\n",
        "    line = line.rstrip()\n",
        "    if re.search('From:', line) :\n",
        "        print(line)\n",
        "\n",
        "import re\n",
        "\n",
        "hand = open('ㅌㅌ')\n",
        "for line in hand:\n",
        "    line = line.rstrip()\n",
        "    if line.find('From:') >= 0:\n",
        "        print(line)\n",
        ""
      ]
    }
  ]
}