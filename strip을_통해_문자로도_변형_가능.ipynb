{
  "nbformat": 4,
  "nbformat_minor": 0,
  "metadata": {
    "colab": {
      "provenance": [],
      "authorship_tag": "ABX9TyN/VuPeNVm49HghpH2a5Up3",
      "include_colab_link": true
    },
    "kernelspec": {
      "name": "python3",
      "display_name": "Python 3"
    },
    "language_info": {
      "name": "python"
    }
  },
  "cells": [
    {
      "cell_type": "markdown",
      "metadata": {
        "id": "view-in-github",
        "colab_type": "text"
      },
      "source": [
        "<a href=\"https://colab.research.google.com/github/Meaning-Mentos/Finding-the-meaning-of-mentos/blob/main/strip%EC%9D%84_%ED%86%B5%ED%95%B4_%EB%AC%B8%EC%9E%90%EB%A1%9C%EB%8F%84_%EB%B3%80%ED%98%95_%EA%B0%80%EB%8A%A5.ipynb\" target=\"_parent\"><img src=\"https://colab.research.google.com/assets/colab-badge.svg\" alt=\"Open In Colab\"/></a>"
      ]
    },
    {
      "cell_type": "code",
      "execution_count": 4,
      "metadata": {
        "colab": {
          "base_uri": "https://localhost:8080/"
        },
        "id": "YImLSDFI7U6A",
        "outputId": "41fc9122-3dfc-4651-cd11-db88a5d49c75"
      },
      "outputs": [
        {
          "output_type": "stream",
          "name": "stdout",
          "text": [
            "But soft what light through yonder window breaks\n",
            "It is the east and Juliet is the sun\n",
            "Arise fair sun and kill the envious moon\n",
            "Who is already sick and pale with grief\n"
          ]
        }
      ],
      "source": [
        "import urllib.request, urllib.parse, urllib.error # url 불러오기\n",
        "\n",
        "fhand = urllib.request.urlopen('http://data.pr4e.org/romeo.txt') #url open, get 인코딩, 연결, 응답을 저장\n",
        "# 웹페이지, 이미지, 텍스트 파일 등을 불러온다.\n",
        "counts = dict()\n",
        "for line in fhand: #fhand 안에 있는 것을 줄마다 불러온다.\n",
        "    words = line.decode().strip() #문장 적기\n",
        "    print(words)"
      ]
    }
  ]
}