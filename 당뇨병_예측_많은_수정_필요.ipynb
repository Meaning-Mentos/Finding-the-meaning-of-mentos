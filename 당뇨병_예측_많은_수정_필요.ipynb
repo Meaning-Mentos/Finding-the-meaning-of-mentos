{
  "cells": [
    {
      "cell_type": "markdown",
      "metadata": {
        "colab_type": "text",
        "id": "view-in-github"
      },
      "source": [
        "<a href=\"https://colab.research.google.com/github/Meaning-Mentos/Finding-the-meaning-of-mentos/blob/main/%EB%8B%B9%EB%87%A8%EB%B3%91_%EC%98%88%EC%B8%A1_%EB%A7%8E%EC%9D%80_%EC%88%98%EC%A0%95_%ED%95%84%EC%9A%94.ipynb\" target=\"_parent\"><img src=\"https://colab.research.google.com/assets/colab-badge.svg\" alt=\"Open In Colab\"/></a>"
      ]
    },
    {
      "cell_type": "code",
      "execution_count": null,
      "metadata": {
        "colab": {
          "base_uri": "https://localhost:8080/",
          "height": 71
        },
        "id": "tSXQU5ivI9V9",
        "outputId": "ab883e63-d88d-4a07-ba8c-e90b1d8f622f"
      },
      "outputs": [
        {
          "ename": "ModuleNotFoundError",
          "evalue": "No module named 'sklearn'",
          "output_type": "error",
          "traceback": [
            "\u001b[1;31m---------------------------------------------------------------------------\u001b[0m",
            "\u001b[1;31mModuleNotFoundError\u001b[0m                       Traceback (most recent call last)",
            "\u001b[1;32mc:\\Users\\dongy\\OneDrive\\문서\\GitHub\\Finding-the-meaning-of-mentos\\당뇨병_예측_많은_수정_필요.ipynb Cell 2\u001b[0m line \u001b[0;36m7\n\u001b[0;32m      <a href='vscode-notebook-cell:/c%3A/Users/dongy/OneDrive/%EB%AC%B8%EC%84%9C/GitHub/Finding-the-meaning-of-mentos/%EB%8B%B9%EB%87%A8%EB%B3%91_%EC%98%88%EC%B8%A1_%EB%A7%8E%EC%9D%80_%EC%88%98%EC%A0%95_%ED%95%84%EC%9A%94.ipynb#W1sZmlsZQ%3D%3D?line=3'>4</a>\u001b[0m \u001b[39mimport\u001b[39;00m \u001b[39mmatplotlib\u001b[39;00m\u001b[39m.\u001b[39;00m\u001b[39mpyplot\u001b[39;00m \u001b[39mas\u001b[39;00m \u001b[39mplt\u001b[39;00m\n\u001b[0;32m      <a href='vscode-notebook-cell:/c%3A/Users/dongy/OneDrive/%EB%AC%B8%EC%84%9C/GitHub/Finding-the-meaning-of-mentos/%EB%8B%B9%EB%87%A8%EB%B3%91_%EC%98%88%EC%B8%A1_%EB%A7%8E%EC%9D%80_%EC%88%98%EC%A0%95_%ED%95%84%EC%9A%94.ipynb#W1sZmlsZQ%3D%3D?line=5'>6</a>\u001b[0m \u001b[39m#사이킷런 라이브러리 불러오기, diabetes 관련\u001b[39;00m\n\u001b[1;32m----> <a href='vscode-notebook-cell:/c%3A/Users/dongy/OneDrive/%EB%AC%B8%EC%84%9C/GitHub/Finding-the-meaning-of-mentos/%EB%8B%B9%EB%87%A8%EB%B3%91_%EC%98%88%EC%B8%A1_%EB%A7%8E%EC%9D%80_%EC%88%98%EC%A0%95_%ED%95%84%EC%9A%94.ipynb#W1sZmlsZQ%3D%3D?line=6'>7</a>\u001b[0m \u001b[39mfrom\u001b[39;00m \u001b[39msklearn\u001b[39;00m\u001b[39m.\u001b[39;00m\u001b[39mdatasets\u001b[39;00m \u001b[39mimport\u001b[39;00m load_diabetes\n\u001b[0;32m      <a href='vscode-notebook-cell:/c%3A/Users/dongy/OneDrive/%EB%AC%B8%EC%84%9C/GitHub/Finding-the-meaning-of-mentos/%EB%8B%B9%EB%87%A8%EB%B3%91_%EC%98%88%EC%B8%A1_%EB%A7%8E%EC%9D%80_%EC%88%98%EC%A0%95_%ED%95%84%EC%9A%94.ipynb#W1sZmlsZQ%3D%3D?line=7'>8</a>\u001b[0m \u001b[39m#data.keys() <- 데이터 확인하게 도와주는 것\u001b[39;00m\n\u001b[0;32m      <a href='vscode-notebook-cell:/c%3A/Users/dongy/OneDrive/%EB%AC%B8%EC%84%9C/GitHub/Finding-the-meaning-of-mentos/%EB%8B%B9%EB%87%A8%EB%B3%91_%EC%98%88%EC%B8%A1_%EB%A7%8E%EC%9D%80_%EC%88%98%EC%A0%95_%ED%95%84%EC%9A%94.ipynb#W1sZmlsZQ%3D%3D?line=8'>9</a>\u001b[0m data \u001b[39m=\u001b[39m load_diabetes()    \u001b[39m# 열의 이름 확인\u001b[39;00m\n",
            "\u001b[1;31mModuleNotFoundError\u001b[0m: No module named 'sklearn'"
          ]
        }
      ],
      "source": [
        "#기본 3종 시리즈 판다, 넘파이, 메타플롯\n",
        "import pandas as pd\n",
        "import numpy as np\n",
        "import matplotlib.pyplot as plt\n",
        "\n",
        "#사이킷런 라이브러리 불러오기, diabetes 관련\n",
        "from sklearn.datasets import load_diabetes\n",
        "#data.keys() <- 데이터 확인하게 도와주는 것\n",
        "data = load_diabetes()    # 열의 이름 확인\n",
        "print(data.feature_names)\n",
        "data.keys()    #\\ 어떤 키를 가지는지.\n",
        "\n",
        "data['data'].shape\n",
        "data['target'].shape\n",
        "df = pd.DataFrame (data['data'], index=data['target'], columns=data['feature_names'])   #data = x index = y columns = 첫 열 설명\n",
        "\n",
        "df.loc[df.age.isnull()]\n",
        "#df.T # 행과 열 전환\n",
        "#data는 x1,x2 -> index는 그 값의 결론 ax1 ? bx2 = index\n",
        "\n",
        "#target은, 파이썬의 정답값을 뜻한다. 여기서는 당뇨병이 걸렸는지에 대해 설명한다.\n",
        "\n",
        "\n",
        "\n",
        "\n",
        "#inv = pd.DataFrame(data.data)\n",
        "#dev = pd.DataFrame(data.target)\n",
        "\n",
        "#dataData = pd.concat([inv,dev], axis=1)\n",
        "\n",
        "#inv.tail()\n",
        "#x = dataData[['']]\n",
        "#넘파이 랜덤 시드 지정기\n",
        "#np.random.seed()"
      ]
    },
    {
      "cell_type": "code",
      "execution_count": 9,
      "metadata": {},
      "outputs": [
        {
          "name": "stdout",
          "output_type": "stream",
          "text": [
            "Collecting sklearn\n",
            "  Using cached sklearn-0.0.post12.tar.gz (2.6 kB)\n",
            "  Installing build dependencies: started\n",
            "  Installing build dependencies: finished with status 'done'\n",
            "  Getting requirements to build wheel: started\n",
            "  Getting requirements to build wheel: finished with status 'error'\n",
            "Note: you may need to restart the kernel to use updated packages.\n"
          ]
        },
        {
          "name": "stderr",
          "output_type": "stream",
          "text": [
            "  error: subprocess-exited-with-error\n",
            "  \n",
            "  × Getting requirements to build wheel did not run successfully.\n",
            "  │ exit code: 1\n",
            "  ╰─> [15 lines of output]\n",
            "      The 'sklearn' PyPI package is deprecated, use 'scikit-learn'\n",
            "      rather than 'sklearn' for pip commands.\n",
            "      \n",
            "      Here is how to fix this error in the main use cases:\n",
            "      - use 'pip install scikit-learn' rather than 'pip install sklearn'\n",
            "      - replace 'sklearn' by 'scikit-learn' in your pip requirements files\n",
            "        (requirements.txt, setup.py, setup.cfg, Pipfile, etc ...)\n",
            "      - if the 'sklearn' package is used by one of your dependencies,\n",
            "        it would be great if you take some time to track which package uses\n",
            "        'sklearn' instead of 'scikit-learn' and report it to their issue tracker\n",
            "      - as a last resort, set the environment variable\n",
            "        SKLEARN_ALLOW_DEPRECATED_SKLEARN_PACKAGE_INSTALL=True to avoid this error\n",
            "      \n",
            "      More information is available at\n",
            "      https://github.com/scikit-learn/sklearn-pypi-package\n",
            "      [end of output]\n",
            "  \n",
            "  note: This error originates from a subprocess, and is likely not a problem with pip.\n",
            "error: subprocess-exited-with-error\n",
            "\n",
            "× Getting requirements to build wheel did not run successfully.\n",
            "│ exit code: 1\n",
            "╰─> See above for output.\n",
            "\n",
            "note: This error originates from a subprocess, and is likely not a problem with pip.\n",
            "\n",
            "[notice] A new release of pip is available: 23.2.1 -> 23.3.1\n",
            "[notice] To update, run: python.exe -m pip install --upgrade pip\n"
          ]
        }
      ],
      "source": [
        "pip install sklearn\n"
      ]
    }
  ],
  "metadata": {
    "colab": {
      "authorship_tag": "ABX9TyOLvA3pRSlCAg6t3s1FCnKJ",
      "include_colab_link": true,
      "provenance": []
    },
    "kernelspec": {
      "display_name": "Python 3",
      "name": "python3"
    },
    "language_info": {
      "codemirror_mode": {
        "name": "ipython",
        "version": 3
      },
      "file_extension": ".py",
      "mimetype": "text/x-python",
      "name": "python",
      "nbconvert_exporter": "python",
      "pygments_lexer": "ipython3",
      "version": "3.12.0"
    }
  },
  "nbformat": 4,
  "nbformat_minor": 0
}
