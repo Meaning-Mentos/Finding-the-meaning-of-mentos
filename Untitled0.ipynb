{
  "nbformat": 4,
  "nbformat_minor": 0,
  "metadata": {
    "colab": {
      "provenance": [],
      "authorship_tag": "ABX9TyNw4stghZykowckS6GOB9Zo",
      "include_colab_link": true
    },
    "kernelspec": {
      "name": "python3",
      "display_name": "Python 3"
    },
    "language_info": {
      "name": "python"
    }
  },
  "cells": [
    {
      "cell_type": "markdown",
      "metadata": {
        "id": "view-in-github",
        "colab_type": "text"
      },
      "source": [
        "<a href=\"https://colab.research.google.com/github/Meaning-Mentos/Finding-the-meaning-of-mentos/blob/main/Untitled0.ipynb\" target=\"_parent\"><img src=\"https://colab.research.google.com/assets/colab-badge.svg\" alt=\"Open In Colab\"/></a>"
      ]
    },
    {
      "cell_type": "code",
      "execution_count": 6,
      "metadata": {
        "colab": {
          "base_uri": "https://localhost:8080/"
        },
        "id": "GruHXhLC-Ry4",
        "outputId": "80639700-e13c-4ed5-be9c-6a682e69df41"
      },
      "outputs": [
        {
          "output_type": "stream",
          "name": "stdout",
          "text": [
            "17\n",
            "0.8475\n",
            "42.8475\n"
          ]
        }
      ],
      "source": [
        "str = 'X-DSPM-Confidence: 0.8475'\n",
        "\n",
        "atr = str.find(':')\n",
        "print(atr)\n",
        "piece = str[atr+2:]\n",
        "print(piece)\n",
        "value = float(piece)\n",
        "print(value + 42)\n"
      ]
    }
  ]
}