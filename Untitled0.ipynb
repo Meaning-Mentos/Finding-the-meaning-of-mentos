{
  "nbformat": 4,
  "nbformat_minor": 0,
  "metadata": {
    "colab": {
      "provenance": [],
      "authorship_tag": "ABX9TyNXlZLRfqhn1V+axKVaK0K5",
      "include_colab_link": true
    },
    "kernelspec": {
      "name": "python3",
      "display_name": "Python 3"
    },
    "language_info": {
      "name": "python"
    }
  },
  "cells": [
    {
      "cell_type": "markdown",
      "metadata": {
        "id": "view-in-github",
        "colab_type": "text"
      },
      "source": [
        "<a href=\"https://colab.research.google.com/github/Meaning-Mentos/Finding-the-meaning-of-mentos/blob/main/Untitled0.ipynb\" target=\"_parent\"><img src=\"https://colab.research.google.com/assets/colab-badge.svg\" alt=\"Open In Colab\"/></a>"
      ]
    },
    {
      "cell_type": "code",
      "execution_count": 9,
      "metadata": {
        "colab": {
          "base_uri": "https://localhost:8080/"
        },
        "id": "updC1HoQGsMs",
        "outputId": "0a11c102-a09a-4a96-df12-49b4ac2bc371"
      },
      "outputs": [
        {
          "output_type": "stream",
          "name": "stdout",
          "text": [
            "7\n",
            "-0.8975602524508653\n"
          ]
        }
      ],
      "source": [
        "import statistics as st\n",
        "a = (4,5,6,7,8,9,10)\n",
        "d = (10, 9, 8, 5, 3, 1, 4, 6, 7, 10, 5, 6,7,8,8)\n",
        "b = st.median(a)\n",
        "for s in d:\n",
        "  if len(a)<len(d):\n",
        "    d = d[:-1]\n",
        "\n",
        "\n",
        "c = st.correlation(a,d)\n",
        "print(b)\n",
        "print(c)"
      ]
    }
  ]
}