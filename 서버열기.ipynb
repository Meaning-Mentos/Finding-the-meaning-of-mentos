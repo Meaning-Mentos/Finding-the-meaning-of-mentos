{
  "nbformat": 4,
  "nbformat_minor": 0,
  "metadata": {
    "colab": {
      "provenance": [],
      "authorship_tag": "ABX9TyOUXO+JGfsI5WRQ4eBDyuA7",
      "include_colab_link": true
    },
    "kernelspec": {
      "name": "python3",
      "display_name": "Python 3"
    },
    "language_info": {
      "name": "python"
    }
  },
  "cells": [
    {
      "cell_type": "markdown",
      "metadata": {
        "id": "view-in-github",
        "colab_type": "text"
      },
      "source": [
        "<a href=\"https://colab.research.google.com/github/Meaning-Mentos/Finding-the-meaning-of-mentos/blob/main/%EC%84%9C%EB%B2%84%EC%97%B4%EA%B8%B0.ipynb\" target=\"_parent\"><img src=\"https://colab.research.google.com/assets/colab-badge.svg\" alt=\"Open In Colab\"/></a>"
      ]
    },
    {
      "cell_type": "code",
      "execution_count": null,
      "metadata": {
        "id": "jmsdhUqolthq"
      },
      "outputs": [],
      "source": [
        "# 서버구동\n",
        "import socket\n",
        "\n",
        "def run_server(host='127.0.0.1', port=7788):  #run server 의 호스트와 포트 지정\n",
        "    BUF_SIZE = 1024   # 바이트 크기\n",
        "    with socket.socket() as sock:  # 소켓 생성 및 안전하게 닫기, 별칭 지정\n",
        "        sock.bind((host, port)) # 소켓과 호스트 포트 묶기\n",
        "        sock.listen()    # 소켓을 리스닝 상태로 설정 none로 설정하면 시스템 기본값으로 설정\n",
        "        conn, addr = sock.accept() #클라이언트의 연결이 수립되면 새로운 소켓과 클라이언트 주소 설정\n",
        "        while True:\n",
        "            msg = data.decode()\n",
        "            print(data.decode()) # 수신 데이터 출력\n",
        "            conn.sendall(data) #수신된 데이터 클라이언트 재전송\n",
        "            if msg == 'bye':\n",
        "                conn.close() # 클라연결 종료\n",
        "                break\n",
        "\n",
        "if __name__ == '__main__':\n",
        "    run_server()\n"
      ]
    },
    {
      "cell_type": "code",
      "source": [
        "#클라 가입\n",
        "import socket\n",
        "\n",
        "def run_client(host='127.0.0.1', port=7788):\n",
        "    BUF_SIZE = 1024\n",
        "    with socket.socket() as sock:\n",
        "        sock.connect((host, port))\n",
        "        print('서버에 연결되었습니다.')\n",
        "\n",
        "        while True:\n",
        "            message = input('전송할 메시지를 입력하세요: ')\n",
        "            sock.send(message.encode('utf-8'))\n",
        "\n",
        "            if message.lower() == 'bye':\n",
        "                break\n",
        "\n",
        "            data = sock.recv(BUF_SIZE)\n",
        "            print('받은 데이터:', data.decode('utf-8'))\n",
        "\n",
        "        print('통신이 종료되었습니다.')\n",
        "\n",
        "if __name__ == '__main__':\n",
        "    run_client()\n"
      ],
      "metadata": {
        "id": "zT_EQBYclwtb"
      },
      "execution_count": null,
      "outputs": []
    }
  ]
}