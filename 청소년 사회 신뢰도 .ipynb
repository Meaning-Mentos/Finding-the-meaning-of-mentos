{
  "nbformat": 4,
  "nbformat_minor": 0,
  "metadata": {
    "colab": {
      "provenance": [],
      "authorship_tag": "ABX9TyMF5MKKECyTgZAdfBfifUmN",
      "include_colab_link": true
    },
    "kernelspec": {
      "name": "python3",
      "display_name": "Python 3"
    },
    "language_info": {
      "name": "python"
    }
  },
  "cells": [
    {
      "cell_type": "markdown",
      "metadata": {
        "id": "view-in-github",
        "colab_type": "text"
      },
      "source": [
        "<a href=\"https://colab.research.google.com/github/Meaning-Mentos/Finding-the-meaning-of-mentos/blob/main/%EC%B2%AD%EC%86%8C%EB%85%84%20%EC%82%AC%ED%9A%8C%20%EC%8B%A0%EB%A2%B0%EB%8F%84%20.ipynb\" target=\"_parent\"><img src=\"https://colab.research.google.com/assets/colab-badge.svg\" alt=\"Open In Colab\"/></a>"
      ]
    },
    {
      "cell_type": "code",
      "execution_count": null,
      "metadata": {
        "id": "614EG2TFucMu"
      },
      "outputs": [],
      "source": [
        "#청소년의 사회 신뢰도와 삶의 만족도는 관련이 있는가?\n",
        "import\n",
        "a = input(\"사회 신뢰도 점수\")\n",
        "if a>5:\n",
        "  print(\"높습니다.\")"
      ]
    }
  ]
}