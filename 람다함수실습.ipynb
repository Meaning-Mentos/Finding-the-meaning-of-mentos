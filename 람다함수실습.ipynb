{
  "nbformat": 4,
  "nbformat_minor": 0,
  "metadata": {
    "colab": {
      "provenance": [],
      "authorship_tag": "ABX9TyNjaHpxrrZ2wh0weQh2gEtJ",
      "include_colab_link": true
    },
    "kernelspec": {
      "name": "python3",
      "display_name": "Python 3"
    },
    "language_info": {
      "name": "python"
    }
  },
  "cells": [
    {
      "cell_type": "markdown",
      "metadata": {
        "id": "view-in-github",
        "colab_type": "text"
      },
      "source": [
        "<a href=\"https://colab.research.google.com/github/Meaning-Mentos/Finding-the-meaning-of-mentos/blob/main/%EB%9E%8C%EB%8B%A4%ED%95%A8%EC%88%98%EC%8B%A4%EC%8A%B5.ipynb\" target=\"_parent\"><img src=\"https://colab.research.google.com/assets/colab-badge.svg\" alt=\"Open In Colab\"/></a>"
      ]
    },
    {
      "cell_type": "code",
      "execution_count": null,
      "metadata": {
        "colab": {
          "base_uri": "https://localhost:8080/"
        },
        "id": "aHMxMSJ8GZ8d",
        "outputId": "94c3f5f3-04aa-492a-e2bd-ea0869bbe14b"
      },
      "outputs": [
        {
          "output_type": "execute_result",
          "data": {
            "text/plain": [
              "6"
            ]
          },
          "metadata": {},
          "execution_count": 8
        }
      ],
      "source": [
        "from functools import reduce # 리듀스는 수의 누적을 뜻함\n",
        "def factorial(n):\n",
        "    return reduce(lambda x, y: x*y, range(1, n+1)) # 람다함수는 함수의 정의\n",
        "factorial(3)"
      ]
    }
  ]
}