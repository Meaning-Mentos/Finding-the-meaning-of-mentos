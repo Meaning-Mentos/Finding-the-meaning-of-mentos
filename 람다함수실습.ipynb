{
  "nbformat": 4,
  "nbformat_minor": 0,
  "metadata": {
    "colab": {
      "provenance": [],
      "authorship_tag": "ABX9TyOTM+0RIGiXlVaN85bO4kBX",
      "include_colab_link": true
    },
    "kernelspec": {
      "name": "python3",
      "display_name": "Python 3"
    },
    "language_info": {
      "name": "python"
    }
  },
  "cells": [
    {
      "cell_type": "markdown",
      "metadata": {
        "id": "view-in-github",
        "colab_type": "text"
      },
      "source": [
        "<a href=\"https://colab.research.google.com/github/Meaning-Mentos/Finding-the-meaning-of-mentos/blob/main/%EB%9E%8C%EB%8B%A4%ED%95%A8%EC%88%98%EC%8B%A4%EC%8A%B5.ipynb\" target=\"_parent\"><img src=\"https://colab.research.google.com/assets/colab-badge.svg\" alt=\"Open In Colab\"/></a>"
      ]
    },
    {
      "cell_type": "code",
      "execution_count": 5,
      "metadata": {
        "colab": {
          "base_uri": "https://localhost:8080/"
        },
        "id": "aHMxMSJ8GZ8d",
        "outputId": "e4480fe7-e8cb-43b8-9e69-e36f2125a04a"
      },
      "outputs": [
        {
          "output_type": "execute_result",
          "data": {
            "text/plain": [
              "[1, 4, 3, 16, 5]"
            ]
          },
          "metadata": {},
          "execution_count": 5
        }
      ],
      "source": [
        "ex = [1,2,3,4,5]\n",
        "f = lambda x,y: x*y if x % 2 == 0 else x\n",
        "list(map(f,ex,ex))"
      ]
    }
  ]
}