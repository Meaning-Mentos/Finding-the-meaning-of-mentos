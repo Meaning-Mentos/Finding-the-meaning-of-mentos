{
  "nbformat": 4,
  "nbformat_minor": 0,
  "metadata": {
    "colab": {
      "provenance": [],
      "authorship_tag": "ABX9TyMPSvUBlV30NPq+lwF6ilvT",
      "include_colab_link": true
    },
    "kernelspec": {
      "name": "python3",
      "display_name": "Python 3"
    },
    "language_info": {
      "name": "python"
    }
  },
  "cells": [
    {
      "cell_type": "markdown",
      "metadata": {
        "id": "view-in-github",
        "colab_type": "text"
      },
      "source": [
        "<a href=\"https://colab.research.google.com/github/Meaning-Mentos/Finding-the-meaning-of-mentos/blob/main/%EC%A0%95%EA%B7%9C%EC%8B%9D%20%EC%83%89%EC%A0%81.ipynb\" target=\"_parent\"><img src=\"https://colab.research.google.com/assets/colab-badge.svg\" alt=\"Open In Colab\"/></a>"
      ]
    },
    {
      "cell_type": "code",
      "execution_count": 21,
      "metadata": {
        "colab": {
          "base_uri": "https://localhost:8080/"
        },
        "id": "1UqO-XVFTMC6",
        "outputId": "b62b8978-7e8e-4187-a326-83d0318d3e52"
      },
      "outputs": [
        {
          "output_type": "stream",
          "name": "stdout",
          "text": [
            "['stephen.marquard@u', 'wowsoamazing@r']\n",
            "['wowsoamazing@reallyyessssssssssssssssssssssss?']\n"
          ]
        }
      ],
      "source": [
        "# 그리고 다음과 같이 From으로 시작하는 이메일 주소 패턴에서 이메일 주소 부분만 추출할 수도 있습니다. 소괄호를 사용해서 말이죠.\n",
        "import re\n",
        "x = 'From stephen.marquard@uct.ac.za Sat Jan  5 09:14:16 2008 From wowsoamazing@reallyyessssssssssssssssssssssss? Sat'\n",
        "z = 'From wowsoamazing@reallyyessssssssssssssssssssssss? Sat'\n",
        "y = re.findall('From (\\S+@\\S+?)',x)\n",
        "print(y)\n",
        "y = re.findall('From (\\S+@\\S+)', z)\n",
        "print(y)\n",
        "# ['stephen.marquard@uct.ac.za']"
      ]
    }
  ]
}