{
  "nbformat": 4,
  "nbformat_minor": 0,
  "metadata": {
    "colab": {
      "provenance": [],
      "authorship_tag": "ABX9TyOQhgykWwtKUfoFokw3DUhL",
      "include_colab_link": true
    },
    "kernelspec": {
      "name": "python3",
      "display_name": "Python 3"
    },
    "language_info": {
      "name": "python"
    }
  },
  "cells": [
    {
      "cell_type": "markdown",
      "metadata": {
        "id": "view-in-github",
        "colab_type": "text"
      },
      "source": [
        "<a href=\"https://colab.research.google.com/github/Meaning-Mentos/Finding-the-meaning-of-mentos/blob/main/%EB%B2%A1%ED%84%B0%EB%A7%A8.ipynb\" target=\"_parent\"><img src=\"https://colab.research.google.com/assets/colab-badge.svg\" alt=\"Open In Colab\"/></a>"
      ]
    },
    {
      "cell_type": "code",
      "execution_count": 3,
      "metadata": {
        "colab": {
          "base_uri": "https://localhost:8080/"
        },
        "id": "aRiRLpp6V06J",
        "outputId": "939f1e53-2057-4405-f536-0aec9f4a8ccb"
      },
      "outputs": [
        {
          "output_type": "stream",
          "name": "stdout",
          "text": [
            "[[15, 24], [15, 18]]\n",
            "[[[1, 2, 3]], [[4, 5, 6]]]\n"
          ]
        }
      ],
      "source": [
        "matrix_a = [[1, 1, 2], [2, 1, 1]]\n",
        "matrix_b = [[1, 1], [2, 1], [1, 3]]\n",
        "alpha = 3\n",
        "result = [[alpha*sum(a * b for a, b in zip(row_a, column_b))\n",
        "          for column_b in zip(*matrix_b)] for row_a in matrix_a]\n",
        "print(result)\n",
        "\n",
        "Matrix_a = [[1,2,3], [4,5,6]]\n",
        "result = [[element for element in t] for t in zip(Matrix_a)] # 뒤에부터 계산\n",
        "print(result) #Matrix transpose\n",
        "\n",
        "MPa = [[1,1, 2], [2,1,1]]\n",
        "MPb = [[1,1], [2,1], [1,3]]\n",
        "result = [[sum(a*b)]for t in zip]"
      ]
    }
  ]
}