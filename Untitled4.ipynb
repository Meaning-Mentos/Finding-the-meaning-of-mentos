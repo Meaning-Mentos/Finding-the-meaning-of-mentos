{
  "nbformat": 4,
  "nbformat_minor": 0,
  "metadata": {
    "colab": {
      "provenance": [],
      "toc_visible": true,
      "authorship_tag": "ABX9TyNP5ElWdmr+yObUuZ6uq7Ih",
      "include_colab_link": true
    },
    "kernelspec": {
      "name": "python3",
      "display_name": "Python 3"
    },
    "language_info": {
      "name": "python"
    }
  },
  "cells": [
    {
      "cell_type": "markdown",
      "metadata": {
        "id": "view-in-github",
        "colab_type": "text"
      },
      "source": [
        "<a href=\"https://colab.research.google.com/github/Meaning-Mentos/Finding-the-meaning-of-mentos/blob/main/Untitled4.ipynb\" target=\"_parent\"><img src=\"https://colab.research.google.com/assets/colab-badge.svg\" alt=\"Open In Colab\"/></a>"
      ]
    },
    {
      "cell_type": "code",
      "execution_count": 3,
      "metadata": {
        "colab": {
          "base_uri": "https://localhost:8080/"
        },
        "id": "yL7sjZbZn1Gi",
        "outputId": "f9ef6ae4-db9f-4bfb-9ea8-1fc2d202b976"
      },
      "outputs": [
        {
          "output_type": "stream",
          "name": "stdout",
          "text": [
            "{'add': 6}\n",
            "[5, 7, 8]\n",
            "[5, 7]\n"
          ]
        }
      ],
      "source": [
        "a = dict()\n",
        "b = list()\n",
        "b.append(5)\n",
        "b.append(7)\n",
        "b.append(8)\n",
        "a['add'] = 6\n",
        "print(a)\n",
        "print(b)\n",
        "print(b[:2])"
      ]
    }
  ]
}