{
  "nbformat": 4,
  "nbformat_minor": 0,
  "metadata": {
    "colab": {
      "provenance": [],
      "authorship_tag": "ABX9TyOb8hOA3Knny5gOg4XsXg81",
      "include_colab_link": true
    },
    "kernelspec": {
      "name": "python3",
      "display_name": "Python 3"
    },
    "language_info": {
      "name": "python"
    }
  },
  "cells": [
    {
      "cell_type": "markdown",
      "metadata": {
        "id": "view-in-github",
        "colab_type": "text"
      },
      "source": [
        "<a href=\"https://colab.research.google.com/github/Meaning-Mentos/Finding-the-meaning-of-mentos/blob/main/Asterisk.ipynb\" target=\"_parent\"><img src=\"https://colab.research.google.com/assets/colab-badge.svg\" alt=\"Open In Colab\"/></a>"
      ]
    },
    {
      "cell_type": "code",
      "execution_count": 6,
      "metadata": {
        "colab": {
          "base_uri": "https://localhost:8080/"
        },
        "id": "LZMO11E6sT3E",
        "outputId": "cf98ccc4-8acd-4dfb-e7a5-1b898edae8b2"
      },
      "outputs": [
        {
          "output_type": "stream",
          "name": "stdout",
          "text": [
            "[1, 2] [3, 4] 5 6\n"
          ]
        }
      ],
      "source": [
        "#def asterisk_test(a, **r):\n",
        "#  print(a,r)\n",
        "#  print(type(r))\n",
        "\n",
        "#asterisk_test(a = 1,b = 2,c = 3,d = 4,e = 5)\n",
        "\n",
        "a,b,c = ([1,2],[3,4],[5,6])\n",
        "print(a,b,*c)"
      ]
    }
  ]
}