{
  "nbformat": 4,
  "nbformat_minor": 0,
  "metadata": {
    "colab": {
      "provenance": [],
      "authorship_tag": "ABX9TyNK0T6qrQpEItl6t2hZDeY6",
      "include_colab_link": true
    },
    "kernelspec": {
      "name": "python3",
      "display_name": "Python 3"
    },
    "language_info": {
      "name": "python"
    }
  },
  "cells": [
    {
      "cell_type": "markdown",
      "metadata": {
        "id": "view-in-github",
        "colab_type": "text"
      },
      "source": [
        "<a href=\"https://colab.research.google.com/github/Meaning-Mentos/Finding-the-meaning-of-mentos/blob/main/Asterisk.ipynb\" target=\"_parent\"><img src=\"https://colab.research.google.com/assets/colab-badge.svg\" alt=\"Open In Colab\"/></a>"
      ]
    },
    {
      "cell_type": "code",
      "execution_count": 5,
      "metadata": {
        "colab": {
          "base_uri": "https://localhost:8080/"
        },
        "id": "LZMO11E6sT3E",
        "outputId": "6ba19a7a-7c16-4357-acf3-9d17719f70e6"
      },
      "outputs": [
        {
          "output_type": "stream",
          "name": "stdout",
          "text": [
            "1 {'b': 2, 'c': 3, 'd': 4, 'e': 5}\n",
            "<class 'dict'>\n"
          ]
        }
      ],
      "source": [
        "def asterisk_test(a, **r):\n",
        "  print(a,r)\n",
        "  print(type(r))\n",
        "\n",
        "asterisk_test(a = 1,b = 2,c = 3,d = 4,e = 5)"
      ]
    }
  ]
}